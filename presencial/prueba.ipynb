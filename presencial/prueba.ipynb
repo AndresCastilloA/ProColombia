{
 "cells": [
  {
   "cell_type": "code",
   "execution_count": 52,
   "metadata": {},
   "outputs": [],
   "source": [
    "import pandas as pd\n",
    "\n",
    "import seaborn as sns\n",
    "import matplotlib.pyplot as plt"
   ]
  },
  {
   "cell_type": "code",
   "execution_count": 24,
   "metadata": {},
   "outputs": [],
   "source": [
    "turismo = pd.read_csv(\"datos_turistas.txt\",sep = \"|\",decimal=\",\",encoding=\"='utf-8\")\n",
    "Municipio =pd.read_excel('Tablas Correlativas.xlsx',sheet_name=\"Correlativa municipios\")\n",
    "country =pd.read_excel('Tablas Correlativas.xlsx',sheet_name=\"Correlativa ISO Country\")\n",
    "motivo_viaje =pd.read_excel('Tablas Correlativas.xlsx',sheet_name=\"Correlativa motivo de viaje\")"
   ]
  },
  {
   "cell_type": "code",
   "execution_count": 8,
   "metadata": {},
   "outputs": [
    {
     "data": {
      "text/html": [
       "<div>\n",
       "<style scoped>\n",
       "    .dataframe tbody tr th:only-of-type {\n",
       "        vertical-align: middle;\n",
       "    }\n",
       "\n",
       "    .dataframe tbody tr th {\n",
       "        vertical-align: top;\n",
       "    }\n",
       "\n",
       "    .dataframe thead th {\n",
       "        text-align: right;\n",
       "    }\n",
       "</style>\n",
       "<table border=\"1\" class=\"dataframe\">\n",
       "  <thead>\n",
       "    <tr style=\"text-align: right;\">\n",
       "      <th></th>\n",
       "      <th>Código ISO país</th>\n",
       "      <th>Código Municipio</th>\n",
       "      <th>Código Motivo de viaje</th>\n",
       "      <th>Género</th>\n",
       "      <th>Mes</th>\n",
       "      <th>Año</th>\n",
       "      <th>Cantidad turistas</th>\n",
       "    </tr>\n",
       "  </thead>\n",
       "  <tbody>\n",
       "    <tr>\n",
       "      <th>0</th>\n",
       "      <td>AFG</td>\n",
       "      <td>'05059</td>\n",
       "      <td>1</td>\n",
       "      <td>F</td>\n",
       "      <td>6</td>\n",
       "      <td>2015</td>\n",
       "      <td>1</td>\n",
       "    </tr>\n",
       "    <tr>\n",
       "      <th>1</th>\n",
       "      <td>AFG</td>\n",
       "      <td>'11001</td>\n",
       "      <td>1</td>\n",
       "      <td>F</td>\n",
       "      <td>6</td>\n",
       "      <td>2015</td>\n",
       "      <td>3</td>\n",
       "    </tr>\n",
       "    <tr>\n",
       "      <th>2</th>\n",
       "      <td>AFG</td>\n",
       "      <td>'11001</td>\n",
       "      <td>1</td>\n",
       "      <td>M</td>\n",
       "      <td>2</td>\n",
       "      <td>2015</td>\n",
       "      <td>1</td>\n",
       "    </tr>\n",
       "    <tr>\n",
       "      <th>3</th>\n",
       "      <td>AFG</td>\n",
       "      <td>'11001</td>\n",
       "      <td>1</td>\n",
       "      <td>M</td>\n",
       "      <td>6</td>\n",
       "      <td>2015</td>\n",
       "      <td>1</td>\n",
       "    </tr>\n",
       "    <tr>\n",
       "      <th>4</th>\n",
       "      <td>AFG</td>\n",
       "      <td>'11001</td>\n",
       "      <td>2</td>\n",
       "      <td>M</td>\n",
       "      <td>4</td>\n",
       "      <td>2015</td>\n",
       "      <td>2</td>\n",
       "    </tr>\n",
       "  </tbody>\n",
       "</table>\n",
       "</div>"
      ],
      "text/plain": [
       "  Código ISO país Código Municipio  Código Motivo de viaje Género  Mes   Año  \\\n",
       "0             AFG           '05059                       1      F    6  2015   \n",
       "1             AFG           '11001                       1      F    6  2015   \n",
       "2             AFG           '11001                       1      M    2  2015   \n",
       "3             AFG           '11001                       1      M    6  2015   \n",
       "4             AFG           '11001                       2      M    4  2015   \n",
       "\n",
       "   Cantidad turistas  \n",
       "0                  1  \n",
       "1                  3  \n",
       "2                  1  \n",
       "3                  1  \n",
       "4                  2  "
      ]
     },
     "execution_count": 8,
     "metadata": {},
     "output_type": "execute_result"
    }
   ],
   "source": [
    "turismo.head()"
   ]
  },
  {
   "cell_type": "code",
   "execution_count": 19,
   "metadata": {},
   "outputs": [
    {
     "data": {
      "text/html": [
       "<div>\n",
       "<style scoped>\n",
       "    .dataframe tbody tr th:only-of-type {\n",
       "        vertical-align: middle;\n",
       "    }\n",
       "\n",
       "    .dataframe tbody tr th {\n",
       "        vertical-align: top;\n",
       "    }\n",
       "\n",
       "    .dataframe thead th {\n",
       "        text-align: right;\n",
       "    }\n",
       "</style>\n",
       "<table border=\"1\" class=\"dataframe\">\n",
       "  <thead>\n",
       "    <tr style=\"text-align: right;\">\n",
       "      <th></th>\n",
       "      <th>Código ISO país</th>\n",
       "      <th>País</th>\n",
       "    </tr>\n",
       "  </thead>\n",
       "  <tbody>\n",
       "    <tr>\n",
       "      <th>0</th>\n",
       "      <td>ABW</td>\n",
       "      <td>Aruba</td>\n",
       "    </tr>\n",
       "    <tr>\n",
       "      <th>1</th>\n",
       "      <td>AFG</td>\n",
       "      <td>Afganistán</td>\n",
       "    </tr>\n",
       "    <tr>\n",
       "      <th>2</th>\n",
       "      <td>AGO</td>\n",
       "      <td>Angola</td>\n",
       "    </tr>\n",
       "    <tr>\n",
       "      <th>3</th>\n",
       "      <td>AIA</td>\n",
       "      <td>Anguila</td>\n",
       "    </tr>\n",
       "    <tr>\n",
       "      <th>4</th>\n",
       "      <td>ALB</td>\n",
       "      <td>Albania</td>\n",
       "    </tr>\n",
       "  </tbody>\n",
       "</table>\n",
       "</div>"
      ],
      "text/plain": [
       "  Código ISO país        País\n",
       "0             ABW       Aruba\n",
       "1             AFG  Afganistán\n",
       "2             AGO      Angola\n",
       "3             AIA     Anguila\n",
       "4             ALB     Albania"
      ]
     },
     "execution_count": 19,
     "metadata": {},
     "output_type": "execute_result"
    }
   ],
   "source": [
    "country.head()"
   ]
  },
  {
   "cell_type": "code",
   "execution_count": 25,
   "metadata": {},
   "outputs": [],
   "source": [
    "df = pd.merge(turismo,Municipio,how=\"left\",left_on=\"Código Municipio\",right_on=\"CODIGO_MUNICIPIO\")"
   ]
  },
  {
   "cell_type": "code",
   "execution_count": 26,
   "metadata": {},
   "outputs": [],
   "source": [
    "df = pd.merge(df,country,how=\"left\",on=\"Código ISO país\")"
   ]
  },
  {
   "cell_type": "code",
   "execution_count": 28,
   "metadata": {},
   "outputs": [],
   "source": [
    "df= pd.merge(df,motivo_viaje,how=\"left\",on=\"Código Motivo de viaje\")"
   ]
  },
  {
   "cell_type": "code",
   "execution_count": 30,
   "metadata": {},
   "outputs": [
    {
     "data": {
      "text/html": [
       "<div>\n",
       "<style scoped>\n",
       "    .dataframe tbody tr th:only-of-type {\n",
       "        vertical-align: middle;\n",
       "    }\n",
       "\n",
       "    .dataframe tbody tr th {\n",
       "        vertical-align: top;\n",
       "    }\n",
       "\n",
       "    .dataframe thead th {\n",
       "        text-align: right;\n",
       "    }\n",
       "</style>\n",
       "<table border=\"1\" class=\"dataframe\">\n",
       "  <thead>\n",
       "    <tr style=\"text-align: right;\">\n",
       "      <th></th>\n",
       "      <th>Código ISO país</th>\n",
       "      <th>Código Municipio</th>\n",
       "      <th>Código Motivo de viaje</th>\n",
       "      <th>Género</th>\n",
       "      <th>Mes</th>\n",
       "      <th>Año</th>\n",
       "      <th>Cantidad turistas</th>\n",
       "      <th>CODIGO_MUNICIPIO</th>\n",
       "      <th>NOMBRE_DEPTO</th>\n",
       "      <th>PROVINCIA</th>\n",
       "      <th>NOMBRE_MPIO</th>\n",
       "      <th>País</th>\n",
       "      <th>Motivo de viaje</th>\n",
       "    </tr>\n",
       "  </thead>\n",
       "  <tbody>\n",
       "    <tr>\n",
       "      <th>0</th>\n",
       "      <td>AFG</td>\n",
       "      <td>'05059</td>\n",
       "      <td>1</td>\n",
       "      <td>F</td>\n",
       "      <td>6</td>\n",
       "      <td>2015</td>\n",
       "      <td>1</td>\n",
       "      <td>'05059</td>\n",
       "      <td>ANTIOQUIA</td>\n",
       "      <td>OCCIDENTE</td>\n",
       "      <td>ARMENIA</td>\n",
       "      <td>Afganistán</td>\n",
       "      <td>Vacaciones, recreo y ocio</td>\n",
       "    </tr>\n",
       "    <tr>\n",
       "      <th>1</th>\n",
       "      <td>AFG</td>\n",
       "      <td>'11001</td>\n",
       "      <td>1</td>\n",
       "      <td>F</td>\n",
       "      <td>6</td>\n",
       "      <td>2015</td>\n",
       "      <td>3</td>\n",
       "      <td>'11001</td>\n",
       "      <td>BOGOTÁ D.C.</td>\n",
       "      <td>BOGOTA</td>\n",
       "      <td>BOGOTA D.C.</td>\n",
       "      <td>Afganistán</td>\n",
       "      <td>Vacaciones, recreo y ocio</td>\n",
       "    </tr>\n",
       "    <tr>\n",
       "      <th>2</th>\n",
       "      <td>AFG</td>\n",
       "      <td>'11001</td>\n",
       "      <td>1</td>\n",
       "      <td>M</td>\n",
       "      <td>2</td>\n",
       "      <td>2015</td>\n",
       "      <td>1</td>\n",
       "      <td>'11001</td>\n",
       "      <td>BOGOTÁ D.C.</td>\n",
       "      <td>BOGOTA</td>\n",
       "      <td>BOGOTA D.C.</td>\n",
       "      <td>Afganistán</td>\n",
       "      <td>Vacaciones, recreo y ocio</td>\n",
       "    </tr>\n",
       "    <tr>\n",
       "      <th>3</th>\n",
       "      <td>AFG</td>\n",
       "      <td>'11001</td>\n",
       "      <td>1</td>\n",
       "      <td>M</td>\n",
       "      <td>6</td>\n",
       "      <td>2015</td>\n",
       "      <td>1</td>\n",
       "      <td>'11001</td>\n",
       "      <td>BOGOTÁ D.C.</td>\n",
       "      <td>BOGOTA</td>\n",
       "      <td>BOGOTA D.C.</td>\n",
       "      <td>Afganistán</td>\n",
       "      <td>Vacaciones, recreo y ocio</td>\n",
       "    </tr>\n",
       "    <tr>\n",
       "      <th>4</th>\n",
       "      <td>AFG</td>\n",
       "      <td>'11001</td>\n",
       "      <td>2</td>\n",
       "      <td>M</td>\n",
       "      <td>4</td>\n",
       "      <td>2015</td>\n",
       "      <td>2</td>\n",
       "      <td>'11001</td>\n",
       "      <td>BOGOTÁ D.C.</td>\n",
       "      <td>BOGOTA</td>\n",
       "      <td>BOGOTA D.C.</td>\n",
       "      <td>Afganistán</td>\n",
       "      <td>Negocios y motivos profesionales</td>\n",
       "    </tr>\n",
       "  </tbody>\n",
       "</table>\n",
       "</div>"
      ],
      "text/plain": [
       "  Código ISO país Código Municipio  Código Motivo de viaje Género  Mes   Año  \\\n",
       "0             AFG           '05059                       1      F    6  2015   \n",
       "1             AFG           '11001                       1      F    6  2015   \n",
       "2             AFG           '11001                       1      M    2  2015   \n",
       "3             AFG           '11001                       1      M    6  2015   \n",
       "4             AFG           '11001                       2      M    4  2015   \n",
       "\n",
       "   Cantidad turistas CODIGO_MUNICIPIO NOMBRE_DEPTO  PROVINCIA  NOMBRE_MPIO  \\\n",
       "0                  1           '05059    ANTIOQUIA  OCCIDENTE      ARMENIA   \n",
       "1                  3           '11001  BOGOTÁ D.C.     BOGOTA  BOGOTA D.C.   \n",
       "2                  1           '11001  BOGOTÁ D.C.     BOGOTA  BOGOTA D.C.   \n",
       "3                  1           '11001  BOGOTÁ D.C.     BOGOTA  BOGOTA D.C.   \n",
       "4                  2           '11001  BOGOTÁ D.C.     BOGOTA  BOGOTA D.C.   \n",
       "\n",
       "         País                   Motivo de viaje  \n",
       "0  Afganistán         Vacaciones, recreo y ocio  \n",
       "1  Afganistán         Vacaciones, recreo y ocio  \n",
       "2  Afganistán         Vacaciones, recreo y ocio  \n",
       "3  Afganistán         Vacaciones, recreo y ocio  \n",
       "4  Afganistán  Negocios y motivos profesionales  "
      ]
     },
     "execution_count": 30,
     "metadata": {},
     "output_type": "execute_result"
    }
   ],
   "source": [
    "df.head()"
   ]
  },
  {
   "cell_type": "code",
   "execution_count": 42,
   "metadata": {},
   "outputs": [],
   "source": [
    "df['fecha'] = pd.to_datetime({'year':df['Año'],'month':df['Mes'],'day':1}, format='%Y%m')\n",
    "# (df.Año.to_string()+df.Mes.to_string())"
   ]
  },
  {
   "cell_type": "code",
   "execution_count": 184,
   "metadata": {},
   "outputs": [
    {
     "data": {
      "text/html": [
       "<div>\n",
       "<style scoped>\n",
       "    .dataframe tbody tr th:only-of-type {\n",
       "        vertical-align: middle;\n",
       "    }\n",
       "\n",
       "    .dataframe tbody tr th {\n",
       "        vertical-align: top;\n",
       "    }\n",
       "\n",
       "    .dataframe thead th {\n",
       "        text-align: right;\n",
       "    }\n",
       "</style>\n",
       "<table border=\"1\" class=\"dataframe\">\n",
       "  <thead>\n",
       "    <tr style=\"text-align: right;\">\n",
       "      <th></th>\n",
       "      <th>Cantidad turistas</th>\n",
       "    </tr>\n",
       "    <tr>\n",
       "      <th>País</th>\n",
       "      <th></th>\n",
       "    </tr>\n",
       "  </thead>\n",
       "  <tbody>\n",
       "    <tr>\n",
       "      <th>Estados Unidos</th>\n",
       "      <td>0.287590</td>\n",
       "    </tr>\n",
       "    <tr>\n",
       "      <th>Ecuador</th>\n",
       "      <td>0.084373</td>\n",
       "    </tr>\n",
       "    <tr>\n",
       "      <th>México</th>\n",
       "      <td>0.079763</td>\n",
       "    </tr>\n",
       "    <tr>\n",
       "      <th>Perú</th>\n",
       "      <td>0.051760</td>\n",
       "    </tr>\n",
       "  </tbody>\n",
       "</table>\n",
       "</div>"
      ],
      "text/plain": [
       "                Cantidad turistas\n",
       "País                             \n",
       "Estados Unidos           0.287590\n",
       "Ecuador                  0.084373\n",
       "México                   0.079763\n",
       "Perú                     0.051760"
      ]
     },
     "execution_count": 184,
     "metadata": {},
     "output_type": "execute_result"
    }
   ],
   "source": [
    "turistas2023=df[df['Año']==2023]['Cantidad turistas'].sum()\n",
    "(df[df['Año']==2023][['País','Cantidad turistas']].groupby(['País']).sum().sort_values(by=['Cantidad turistas'],ascending=False).head(4)/turistas2023)"
   ]
  },
  {
   "cell_type": "code",
   "execution_count": 190,
   "metadata": {},
   "outputs": [],
   "source": [
    "df[df['Año']==2023][['País','Cantidad turistas']].groupby(['Motivo de viaje']).sum()"
   ]
  },
  {
   "cell_type": "code",
   "execution_count": 46,
   "metadata": {},
   "outputs": [
    {
     "data": {
      "text/html": [
       "<div>\n",
       "<style scoped>\n",
       "    .dataframe tbody tr th:only-of-type {\n",
       "        vertical-align: middle;\n",
       "    }\n",
       "\n",
       "    .dataframe tbody tr th {\n",
       "        vertical-align: top;\n",
       "    }\n",
       "\n",
       "    .dataframe thead th {\n",
       "        text-align: right;\n",
       "    }\n",
       "</style>\n",
       "<table border=\"1\" class=\"dataframe\">\n",
       "  <thead>\n",
       "    <tr style=\"text-align: right;\">\n",
       "      <th></th>\n",
       "      <th>Código ISO país</th>\n",
       "      <th>Código Municipio</th>\n",
       "      <th>Código Motivo de viaje</th>\n",
       "      <th>Género</th>\n",
       "      <th>Mes</th>\n",
       "      <th>Año</th>\n",
       "      <th>Cantidad turistas</th>\n",
       "      <th>CODIGO_MUNICIPIO</th>\n",
       "      <th>NOMBRE_DEPTO</th>\n",
       "      <th>PROVINCIA</th>\n",
       "      <th>NOMBRE_MPIO</th>\n",
       "      <th>País</th>\n",
       "      <th>Motivo de viaje</th>\n",
       "      <th>fecha</th>\n",
       "    </tr>\n",
       "  </thead>\n",
       "  <tbody>\n",
       "    <tr>\n",
       "      <th>0</th>\n",
       "      <td>AFG</td>\n",
       "      <td>'05059</td>\n",
       "      <td>1</td>\n",
       "      <td>F</td>\n",
       "      <td>6</td>\n",
       "      <td>2015</td>\n",
       "      <td>1</td>\n",
       "      <td>'05059</td>\n",
       "      <td>ANTIOQUIA</td>\n",
       "      <td>OCCIDENTE</td>\n",
       "      <td>ARMENIA</td>\n",
       "      <td>Afganistán</td>\n",
       "      <td>Vacaciones, recreo y ocio</td>\n",
       "      <td>2015-06-01</td>\n",
       "    </tr>\n",
       "    <tr>\n",
       "      <th>1</th>\n",
       "      <td>AFG</td>\n",
       "      <td>'11001</td>\n",
       "      <td>1</td>\n",
       "      <td>F</td>\n",
       "      <td>6</td>\n",
       "      <td>2015</td>\n",
       "      <td>3</td>\n",
       "      <td>'11001</td>\n",
       "      <td>BOGOTÁ D.C.</td>\n",
       "      <td>BOGOTA</td>\n",
       "      <td>BOGOTA D.C.</td>\n",
       "      <td>Afganistán</td>\n",
       "      <td>Vacaciones, recreo y ocio</td>\n",
       "      <td>2015-06-01</td>\n",
       "    </tr>\n",
       "  </tbody>\n",
       "</table>\n",
       "</div>"
      ],
      "text/plain": [
       "  Código ISO país Código Municipio  Código Motivo de viaje Género  Mes   Año  \\\n",
       "0             AFG           '05059                       1      F    6  2015   \n",
       "1             AFG           '11001                       1      F    6  2015   \n",
       "\n",
       "   Cantidad turistas CODIGO_MUNICIPIO NOMBRE_DEPTO  PROVINCIA  NOMBRE_MPIO  \\\n",
       "0                  1           '05059    ANTIOQUIA  OCCIDENTE      ARMENIA   \n",
       "1                  3           '11001  BOGOTÁ D.C.     BOGOTA  BOGOTA D.C.   \n",
       "\n",
       "         País            Motivo de viaje      fecha  \n",
       "0  Afganistán  Vacaciones, recreo y ocio 2015-06-01  \n",
       "1  Afganistán  Vacaciones, recreo y ocio 2015-06-01  "
      ]
     },
     "execution_count": 46,
     "metadata": {},
     "output_type": "execute_result"
    }
   ],
   "source": [
    "df.head(2)"
   ]
  },
  {
   "cell_type": "code",
   "execution_count": 49,
   "metadata": {},
   "outputs": [],
   "source": [
    "serie = df[['Cantidad turistas','fecha']].groupby(['fecha']).sum()"
   ]
  },
  {
   "cell_type": "code",
   "execution_count": 56,
   "metadata": {},
   "outputs": [
    {
     "data": {
      "text/html": [
       "<div>\n",
       "<style scoped>\n",
       "    .dataframe tbody tr th:only-of-type {\n",
       "        vertical-align: middle;\n",
       "    }\n",
       "\n",
       "    .dataframe tbody tr th {\n",
       "        vertical-align: top;\n",
       "    }\n",
       "\n",
       "    .dataframe thead th {\n",
       "        text-align: right;\n",
       "    }\n",
       "</style>\n",
       "<table border=\"1\" class=\"dataframe\">\n",
       "  <thead>\n",
       "    <tr style=\"text-align: right;\">\n",
       "      <th></th>\n",
       "      <th>Cantidad turistas</th>\n",
       "    </tr>\n",
       "    <tr>\n",
       "      <th>fecha</th>\n",
       "      <th></th>\n",
       "    </tr>\n",
       "  </thead>\n",
       "  <tbody>\n",
       "    <tr>\n",
       "      <th>2015-01-01</th>\n",
       "      <td>147979</td>\n",
       "    </tr>\n",
       "    <tr>\n",
       "      <th>2015-02-01</th>\n",
       "      <td>159601</td>\n",
       "    </tr>\n",
       "    <tr>\n",
       "      <th>2015-03-01</th>\n",
       "      <td>163073</td>\n",
       "    </tr>\n",
       "    <tr>\n",
       "      <th>2015-04-01</th>\n",
       "      <td>144602</td>\n",
       "    </tr>\n",
       "    <tr>\n",
       "      <th>2015-05-01</th>\n",
       "      <td>151341</td>\n",
       "    </tr>\n",
       "    <tr>\n",
       "      <th>...</th>\n",
       "      <td>...</td>\n",
       "    </tr>\n",
       "    <tr>\n",
       "      <th>2023-04-01</th>\n",
       "      <td>296115</td>\n",
       "    </tr>\n",
       "    <tr>\n",
       "      <th>2023-05-01</th>\n",
       "      <td>282254</td>\n",
       "    </tr>\n",
       "    <tr>\n",
       "      <th>2023-06-01</th>\n",
       "      <td>312374</td>\n",
       "    </tr>\n",
       "    <tr>\n",
       "      <th>2023-07-01</th>\n",
       "      <td>381975</td>\n",
       "    </tr>\n",
       "    <tr>\n",
       "      <th>2023-08-01</th>\n",
       "      <td>353459</td>\n",
       "    </tr>\n",
       "  </tbody>\n",
       "</table>\n",
       "<p>104 rows × 1 columns</p>\n",
       "</div>"
      ],
      "text/plain": [
       "            Cantidad turistas\n",
       "fecha                        \n",
       "2015-01-01             147979\n",
       "2015-02-01             159601\n",
       "2015-03-01             163073\n",
       "2015-04-01             144602\n",
       "2015-05-01             151341\n",
       "...                       ...\n",
       "2023-04-01             296115\n",
       "2023-05-01             282254\n",
       "2023-06-01             312374\n",
       "2023-07-01             381975\n",
       "2023-08-01             353459\n",
       "\n",
       "[104 rows x 1 columns]"
      ]
     },
     "execution_count": 56,
     "metadata": {},
     "output_type": "execute_result"
    }
   ],
   "source": [
    "serie"
   ]
  },
  {
   "cell_type": "code",
   "execution_count": 40,
   "metadata": {},
   "outputs": [],
   "source": [
    "sns.set()"
   ]
  },
  {
   "cell_type": "code",
   "execution_count": 53,
   "metadata": {},
   "outputs": [
    {
     "data": {
      "text/plain": [
       "[<matplotlib.lines.Line2D at 0x19090b63a70>]"
      ]
     },
     "execution_count": 53,
     "metadata": {},
     "output_type": "execute_result"
    },
    {
     "data": {
      "image/png": "[encoded data removed]",
      "text/plain": [
       "<Figure size 640x480 with 1 Axes>"
      ]
     },
     "metadata": {},
     "output_type": "display_data"
    }
   ],
   "source": [
    "plt.ylabel('turistas')\n",
    "plt.xlabel('fecha')\n",
    "plt.plot(serie.index, serie['Cantidad turistas'])"
   ]
  },
  {
   "cell_type": "code",
   "execution_count": 54,
   "metadata": {},
   "outputs": [
    {
     "data": {
      "text/plain": [
       "[<matplotlib.lines.Line2D at 0x190973139e0>]"
      ]
     },
     "execution_count": 54,
     "metadata": {},
     "output_type": "execute_result"
    },
    {
     "data": {
      "image/png": "[encoded data removed]",
      "text/plain": [
       "<Figure size 640x480 with 1 Axes>"
      ]
     },
     "metadata": {},
     "output_type": "display_data"
    }
   ],
   "source": [
    "rolling_mean = serie.rolling(7).mean()\n",
    "rolling_std = serie.rolling(7).std()\n",
    "plt.plot(serie, color=\"blue\",label=\"Original\")\n",
    "plt.plot(rolling_mean, color=\"red\", label=\"Rolling Mean\")\n",
    "plt.plot(rolling_std, color=\"black\", label = \"Rolling Standard Deviation\")"
   ]
  },
  {
   "cell_type": "code",
   "execution_count": 145,
   "metadata": {},
   "outputs": [
    {
     "data": {
      "text/plain": [
       "Cantidad turistas    2555627\n",
       "dtype: int64"
      ]
     },
     "execution_count": 145,
     "metadata": {},
     "output_type": "execute_result"
    }
   ],
   "source": [
    "#Separamos las bases de entrenamiento y prueba por la fecha\n",
    "Train = serie[serie.index < pd.to_datetime(\"2022-12-31\", format='%Y-%m-%d')]\n",
    "Train\n",
    "Test = serie[serie.index > pd.to_datetime(\"2022-12-31\", format='%Y-%m-%d')]\n",
    "Test.sum()"
   ]
  },
  {
   "cell_type": "code",
   "execution_count": 75,
   "metadata": {},
   "outputs": [
    {
     "name": "stderr",
     "output_type": "stream",
     "text": [
      "C:\\Users\\USUARIO\\AppData\\Local\\Packages\\PythonSoftwareFoundation.Python.3.12_qbz5n2kfra8p0\\LocalCache\\local-packages\\Python312\\site-packages\\statsmodels\\tsa\\base\\tsa_model.py:473: ValueWarning: No frequency information was provided, so inferred frequency MS will be used.\n",
      "  self._init_dates(dates, freq)\n",
      "C:\\Users\\USUARIO\\AppData\\Local\\Packages\\PythonSoftwareFoundation.Python.3.12_qbz5n2kfra8p0\\LocalCache\\local-packages\\Python312\\site-packages\\statsmodels\\tsa\\base\\tsa_model.py:473: ValueWarning: No frequency information was provided, so inferred frequency MS will be used.\n",
      "  self._init_dates(dates, freq)\n"
     ]
    },
    {
     "name": "stdout",
     "output_type": "stream",
     "text": [
      "RMSE:  26508.915339375464\n"
     ]
    },
    {
     "name": "stderr",
     "output_type": "stream",
     "text": [
      "C:\\Users\\USUARIO\\AppData\\Local\\Packages\\PythonSoftwareFoundation.Python.3.12_qbz5n2kfra8p0\\LocalCache\\local-packages\\Python312\\site-packages\\statsmodels\\base\\model.py:607: ConvergenceWarning: Maximum Likelihood optimization failed to converge. Check mle_retvals\n",
      "  warnings.warn(\"Maximum Likelihood optimization failed to \"\n"
     ]
    }
   ],
   "source": [
    "##ARMA - media móvil\n",
    "from statsmodels.tsa.statespace.sarimax import SARIMAX\n",
    "from sklearn.metrics import mean_squared_error\n",
    "import numpy as np\n",
    "y = Train['Cantidad turistas']\n",
    "ARMA = SARIMAX(y, order = (3,0,3)) \n",
    "ARMA = ARMA.fit()\n",
    "y_pred = ARMA.get_forecast(len(Test.index))\n",
    "y_pred_ARMA = y_pred.conf_int(alpha = 0.05)\n",
    "y_pred_ARMA[\"Predictions\"] = ARMA.predict(start = y_pred_ARMA.index[0], end = y_pred_ARMA.index[-1])\n",
    "y_pred_ARMA.index = Test.index\n",
    "y_pred_outARMA = y_pred_ARMA[\"Predictions\"] \n",
    "arma_rmse = np.sqrt(mean_squared_error(Test[\"Cantidad turistas\"].values, y_pred_ARMA[\"Predictions\"]))\n",
    "print(\"RMSE: \",arma_rmse)\n",
    "\n",
    "# Es un modelo ARMA(1,6), donde la variable de exportaciones tiene un solo rezago en el tiempo y el error tiene 6 rezagos,\n",
    "# lo que significa que los choques externos de las variables logran tener impacto hasta 6 meses después de que hayan ocurrido. "
   ]
  },
  {
   "cell_type": "code",
   "execution_count": 153,
   "metadata": {},
   "outputs": [],
   "source": [
    "Predict = [['2023-09-01', ''],['2023-10-01', ''], ['2023-11-01', ''], ['2023-12-01', ''], \n",
    "           ['2024-01-01', ''], ['2024-02-01', ''], ['2024-03-01', ''], \n",
    "           ['2024-04-01', ''], ['2024-05-01', ''], ['2024-06-01', ''], \n",
    "           ['2024-07-01', ''], ['2024-08-01', ''], ['2024-09-01', ''], \n",
    "           ['2024-10-01', ''], ['2024-11-01', ''], ['2024-12-01', '']]"
   ]
  },
  {
   "cell_type": "code",
   "execution_count": 162,
   "metadata": {},
   "outputs": [
    {
     "data": {
      "text/html": [
       "<div>\n",
       "<style scoped>\n",
       "    .dataframe tbody tr th:only-of-type {\n",
       "        vertical-align: middle;\n",
       "    }\n",
       "\n",
       "    .dataframe tbody tr th {\n",
       "        vertical-align: top;\n",
       "    }\n",
       "\n",
       "    .dataframe thead th {\n",
       "        text-align: right;\n",
       "    }\n",
       "</style>\n",
       "<table border=\"1\" class=\"dataframe\">\n",
       "  <thead>\n",
       "    <tr style=\"text-align: right;\">\n",
       "      <th></th>\n",
       "      <th>Mes</th>\n",
       "      <th>Predictions</th>\n",
       "    </tr>\n",
       "  </thead>\n",
       "  <tbody>\n",
       "    <tr>\n",
       "      <th>0</th>\n",
       "      <td>2023-09-01</td>\n",
       "      <td>313514.666686</td>\n",
       "    </tr>\n",
       "    <tr>\n",
       "      <th>1</th>\n",
       "      <td>2023-10-01</td>\n",
       "      <td>317154.243703</td>\n",
       "    </tr>\n",
       "    <tr>\n",
       "      <th>2</th>\n",
       "      <td>2023-11-01</td>\n",
       "      <td>332855.401861</td>\n",
       "    </tr>\n",
       "    <tr>\n",
       "      <th>3</th>\n",
       "      <td>2023-12-01</td>\n",
       "      <td>329035.133982</td>\n",
       "    </tr>\n",
       "    <tr>\n",
       "      <th>4</th>\n",
       "      <td>2024-01-01</td>\n",
       "      <td>313090.045798</td>\n",
       "    </tr>\n",
       "    <tr>\n",
       "      <th>5</th>\n",
       "      <td>2024-02-01</td>\n",
       "      <td>316447.407416</td>\n",
       "    </tr>\n",
       "    <tr>\n",
       "      <th>6</th>\n",
       "      <td>2024-03-01</td>\n",
       "      <td>331991.115958</td>\n",
       "    </tr>\n",
       "    <tr>\n",
       "      <th>7</th>\n",
       "      <td>2024-04-01</td>\n",
       "      <td>328450.666159</td>\n",
       "    </tr>\n",
       "    <tr>\n",
       "      <th>8</th>\n",
       "      <td>2024-05-01</td>\n",
       "      <td>312664.678185</td>\n",
       "    </tr>\n",
       "    <tr>\n",
       "      <th>9</th>\n",
       "      <td>2024-06-01</td>\n",
       "      <td>315745.893422</td>\n",
       "    </tr>\n",
       "    <tr>\n",
       "      <th>10</th>\n",
       "      <td>2024-07-01</td>\n",
       "      <td>331130.166711</td>\n",
       "    </tr>\n",
       "    <tr>\n",
       "      <th>11</th>\n",
       "      <td>2024-08-01</td>\n",
       "      <td>327863.490474</td>\n",
       "    </tr>\n",
       "    <tr>\n",
       "      <th>12</th>\n",
       "      <td>2024-09-01</td>\n",
       "      <td>312238.529375</td>\n",
       "    </tr>\n",
       "    <tr>\n",
       "      <th>13</th>\n",
       "      <td>2024-10-01</td>\n",
       "      <td>315049.615429</td>\n",
       "    </tr>\n",
       "    <tr>\n",
       "      <th>14</th>\n",
       "      <td>2024-11-01</td>\n",
       "      <td>330272.582630</td>\n",
       "    </tr>\n",
       "    <tr>\n",
       "      <th>15</th>\n",
       "      <td>2024-12-01</td>\n",
       "      <td>327273.687755</td>\n",
       "    </tr>\n",
       "  </tbody>\n",
       "</table>\n",
       "</div>"
      ],
      "text/plain": [
       "          Mes    Predictions\n",
       "0  2023-09-01  313514.666686\n",
       "1  2023-10-01  317154.243703\n",
       "2  2023-11-01  332855.401861\n",
       "3  2023-12-01  329035.133982\n",
       "4  2024-01-01  313090.045798\n",
       "5  2024-02-01  316447.407416\n",
       "6  2024-03-01  331991.115958\n",
       "7  2024-04-01  328450.666159\n",
       "8  2024-05-01  312664.678185\n",
       "9  2024-06-01  315745.893422\n",
       "10 2024-07-01  331130.166711\n",
       "11 2024-08-01  327863.490474\n",
       "12 2024-09-01  312238.529375\n",
       "13 2024-10-01  315049.615429\n",
       "14 2024-11-01  330272.582630\n",
       "15 2024-12-01  327273.687755"
      ]
     },
     "execution_count": 162,
     "metadata": {},
     "output_type": "execute_result"
    }
   ],
   "source": [
    "# Test.sum()+\n",
    "y_pred_out[y_pred_out]"
   ]
  },
  {
   "cell_type": "code",
   "execution_count": 154,
   "metadata": {},
   "outputs": [],
   "source": [
    "Predict = pd.DataFrame(Predict, columns=['Mes', 'Cantidad Turistas'])\n",
    "Predict.set_index('Mes', inplace=True)"
   ]
  },
  {
   "cell_type": "code",
   "execution_count": 155,
   "metadata": {},
   "outputs": [],
   "source": [
    "y_pred = ARMA.get_forecast(len(Predict.index))\n",
    "y_pred_SARIMA = y_pred.conf_int(alpha = 0.05) \n",
    "y_pred_SARIMA[\"Predictions\"] = ARMA.predict(start = y_pred_SARIMA.index[0], end = y_pred_SARIMA.index[-1])\n",
    "y_pred_SARIMA.index = Predict.index\n",
    "y_pred_outSARIMA = y_pred_SARIMA[\"Predictions\"] \n",
    "y_pred_out = y_pred_outSARIMA"
   ]
  },
  {
   "cell_type": "code",
   "execution_count": 156,
   "metadata": {},
   "outputs": [],
   "source": [
    "y_pred_out=pd.DataFrame(y_pred_out)"
   ]
  },
  {
   "cell_type": "code",
   "execution_count": 157,
   "metadata": {},
   "outputs": [],
   "source": [
    "y_pred_out = y_pred_out.reset_index()\n",
    "# y_pred_out.Mes=pd.to_datetime(y_pred_out.Mes)"
   ]
  },
  {
   "cell_type": "code",
   "execution_count": 158,
   "metadata": {},
   "outputs": [],
   "source": [
    "y_pred_out.Mes=pd.to_datetime(y_pred_out.Mes, format='%Y-%m-%d')"
   ]
  },
  {
   "cell_type": "code",
   "execution_count": 159,
   "metadata": {},
   "outputs": [
    {
     "data": {
      "text/html": [
       "<div>\n",
       "<style scoped>\n",
       "    .dataframe tbody tr th:only-of-type {\n",
       "        vertical-align: middle;\n",
       "    }\n",
       "\n",
       "    .dataframe tbody tr th {\n",
       "        vertical-align: top;\n",
       "    }\n",
       "\n",
       "    .dataframe thead th {\n",
       "        text-align: right;\n",
       "    }\n",
       "</style>\n",
       "<table border=\"1\" class=\"dataframe\">\n",
       "  <thead>\n",
       "    <tr style=\"text-align: right;\">\n",
       "      <th></th>\n",
       "      <th>Predictions</th>\n",
       "    </tr>\n",
       "    <tr>\n",
       "      <th>Mes</th>\n",
       "      <th></th>\n",
       "    </tr>\n",
       "  </thead>\n",
       "  <tbody>\n",
       "    <tr>\n",
       "      <th>2023-09-01</th>\n",
       "      <td>313514.666686</td>\n",
       "    </tr>\n",
       "    <tr>\n",
       "      <th>2023-10-01</th>\n",
       "      <td>317154.243703</td>\n",
       "    </tr>\n",
       "    <tr>\n",
       "      <th>2023-11-01</th>\n",
       "      <td>332855.401861</td>\n",
       "    </tr>\n",
       "    <tr>\n",
       "      <th>2023-12-01</th>\n",
       "      <td>329035.133982</td>\n",
       "    </tr>\n",
       "    <tr>\n",
       "      <th>2024-01-01</th>\n",
       "      <td>313090.045798</td>\n",
       "    </tr>\n",
       "    <tr>\n",
       "      <th>2024-02-01</th>\n",
       "      <td>316447.407416</td>\n",
       "    </tr>\n",
       "    <tr>\n",
       "      <th>2024-03-01</th>\n",
       "      <td>331991.115958</td>\n",
       "    </tr>\n",
       "    <tr>\n",
       "      <th>2024-04-01</th>\n",
       "      <td>328450.666159</td>\n",
       "    </tr>\n",
       "    <tr>\n",
       "      <th>2024-05-01</th>\n",
       "      <td>312664.678185</td>\n",
       "    </tr>\n",
       "    <tr>\n",
       "      <th>2024-06-01</th>\n",
       "      <td>315745.893422</td>\n",
       "    </tr>\n",
       "    <tr>\n",
       "      <th>2024-07-01</th>\n",
       "      <td>331130.166711</td>\n",
       "    </tr>\n",
       "    <tr>\n",
       "      <th>2024-08-01</th>\n",
       "      <td>327863.490474</td>\n",
       "    </tr>\n",
       "    <tr>\n",
       "      <th>2024-09-01</th>\n",
       "      <td>312238.529375</td>\n",
       "    </tr>\n",
       "    <tr>\n",
       "      <th>2024-10-01</th>\n",
       "      <td>315049.615429</td>\n",
       "    </tr>\n",
       "    <tr>\n",
       "      <th>2024-11-01</th>\n",
       "      <td>330272.582630</td>\n",
       "    </tr>\n",
       "    <tr>\n",
       "      <th>2024-12-01</th>\n",
       "      <td>327273.687755</td>\n",
       "    </tr>\n",
       "  </tbody>\n",
       "</table>\n",
       "</div>"
      ],
      "text/plain": [
       "              Predictions\n",
       "Mes                      \n",
       "2023-09-01  313514.666686\n",
       "2023-10-01  317154.243703\n",
       "2023-11-01  332855.401861\n",
       "2023-12-01  329035.133982\n",
       "2024-01-01  313090.045798\n",
       "2024-02-01  316447.407416\n",
       "2024-03-01  331991.115958\n",
       "2024-04-01  328450.666159\n",
       "2024-05-01  312664.678185\n",
       "2024-06-01  315745.893422\n",
       "2024-07-01  331130.166711\n",
       "2024-08-01  327863.490474\n",
       "2024-09-01  312238.529375\n",
       "2024-10-01  315049.615429\n",
       "2024-11-01  330272.582630\n",
       "2024-12-01  327273.687755"
      ]
     },
     "execution_count": 159,
     "metadata": {},
     "output_type": "execute_result"
    }
   ],
   "source": [
    "y_pred_out.set_index('Mes')"
   ]
  },
  {
   "cell_type": "code",
   "execution_count": 180,
   "metadata": {},
   "outputs": [
    {
     "data": {
      "image/png": "[encoded data removed]",
      "text/plain": [
       "<Figure size 640x480 with 1 Axes>"
      ]
     },
     "metadata": {},
     "output_type": "display_data"
    }
   ],
   "source": [
    "plt.plot(serie['Cantidad turistas'], color = \"black\", label = 'real')\n",
    "plt.plot(y_pred_out['Predictions'], color = \"red\", label = 'estimado')\n",
    "plt.legend()\n",
    "plt.ylabel('Turistas mes')\n",
    "plt.xlabel('Mes')\n",
    "plt.show()"
   ]
  }
 ],
 "metadata": {
  "kernelspec": {
   "display_name": "Python 3",
   "language": "python",
   "name": "python3"
  },
  "language_info": {
   "codemirror_mode": {
    "name": "ipython",
    "version": 3
   },
   "file_extension": ".py",
   "mimetype": "text/x-python",
   "name": "python",
   "nbconvert_exporter": "python",
   "pygments_lexer": "ipython3",
   "version": "3.12.1"
  }
 },
 "nbformat": 4,
 "nbformat_minor": 2
}
